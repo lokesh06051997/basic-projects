{
 "cells": [
  {
   "cell_type": "code",
   "execution_count": 1,
   "metadata": {},
   "outputs": [],
   "source": [
    "import tkinter as tk\n",
    "from tkinter import *\n",
    "from tkinter.ttk import *\n",
    "from time import strftime\n",
    "from psutil import sensors_battery\n",
    "import string"
   ]
  },
  {
   "cell_type": "code",
   "execution_count": 19,
   "metadata": {},
   "outputs": [],
   "source": [
    "root= tk.Tk()\n",
    "root.title('Clock_Battery')\n",
    "root.geometry(\"175x170\")\n",
    "def time():\n",
    "    power= sensors_battery()\n",
    "    Battery_percent =(\"Battery=\",power.percent,\"percentage\")\n",
    "    if power.power_plugged==True:\n",
    "        Charging =(\"Charger Connected\")\n",
    "    else:\n",
    "        Charging=(\"Charger Disconnected\")\n",
    "    string1=strftime(\"%H:%M:%S %p\")\n",
    "#     lbl.config(text=string1)\n",
    "    lbl.after(1000,time)\n",
    "    string2=Battery_percent\n",
    "    string3=Charging\n",
    "    clock = tk.Label(root, text=string1,font=(\"Arial Bold\", 10),background='black',foreground='white').place(x = 10, y = 20)\n",
    "    Battery = tk.Label(root,  text=string2,font=(\"Arial Bold\",10),background='black',foreground='white' ).place(x = 10, y = 70)\n",
    "    charging_condition =  tk.Label(root,text= string3,font=(\"Arial Bold\",10 ),background='black',foreground='white').place(x = 10, y = 120)\n",
    "    \n",
    "lbl= Label()\n",
    "lbl.pack(anchor='center')\n",
    "time()\n",
    "mainloop()"
   ]
  },
  {
   "cell_type": "code",
   "execution_count": null,
   "metadata": {},
   "outputs": [],
   "source": []
  },
  {
   "cell_type": "code",
   "execution_count": null,
   "metadata": {},
   "outputs": [],
   "source": []
  }
 ],
 "metadata": {
  "kernelspec": {
   "display_name": "Python 3",
   "language": "python",
   "name": "python3"
  },
  "language_info": {
   "codemirror_mode": {
    "name": "ipython",
    "version": 3
   },
   "file_extension": ".py",
   "mimetype": "text/x-python",
   "name": "python",
   "nbconvert_exporter": "python",
   "pygments_lexer": "ipython3",
   "version": "3.7.7"
  }
 },
 "nbformat": 4,
 "nbformat_minor": 4
}
