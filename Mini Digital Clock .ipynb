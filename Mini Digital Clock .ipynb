{
 "cells": [
  {
   "cell_type": "code",
   "execution_count": null,
   "metadata": {},
   "outputs": [],
   "source": [
    "from tkinter import *\n",
    "from tkinter.ttk import *\n",
    "from time import strftime\n",
    "\n",
    "root= Tk()\n",
    "root.title('Clock')\n",
    "\n",
    "def time():\n",
    "    string=strftime(\"%H:%M:%S %p\")\n",
    "    lbl.config(text= string)\n",
    "    lbl.after(1000,time)\n",
    "lbl= Label(root,font=(\"Arial Bold\", 50),background='blue',foreground='white')\n",
    "lbl.pack(anchor='center')\n",
    "time()\n",
    "mainloop()"
   ]
  },
  {
   "cell_type": "code",
   "execution_count": null,
   "metadata": {},
   "outputs": [],
   "source": []
  }
 ],
 "metadata": {
  "kernelspec": {
   "display_name": "Python 3",
   "language": "python",
   "name": "python3"
  },
  "language_info": {
   "codemirror_mode": {
    "name": "ipython",
    "version": 3
   },
   "file_extension": ".py",
   "mimetype": "text/x-python",
   "name": "python",
   "nbconvert_exporter": "python",
   "pygments_lexer": "ipython3",
   "version": "3.7.7"
  }
 },
 "nbformat": 4,
 "nbformat_minor": 4
}
