{
 "cells": [
  {
   "cell_type": "code",
   "execution_count": 7,
   "metadata": {},
   "outputs": [
    {
     "name": "stdout",
     "output_type": "stream",
     "text": [
      "please enter the word to search :fruti\n",
      "did you mean fruit instead\n",
      " press y for yes or n for no to continuey\n",
      "A fully matured plant ovary with or without other floral or shoot parts united with it at maturity.\n",
      "A botanical fruit that can be eaten raw used as food.\n"
     ]
    }
   ],
   "source": [
    "import json\n",
    "from difflib import get_close_matches\n",
    "    \n",
    "data=json.load(open(\"C:/Users/Lokesh/Documents/DATASCIENCE/original.json\"))\n",
    "\n",
    "def translate(word):\n",
    "    word= word.lower()\n",
    "    if word in data:\n",
    "        return data[word]\n",
    "     \n",
    "    elif word.title() in data:\n",
    "        return data[word.title()]\n",
    "        \n",
    "    elif word.upper() in data:\n",
    "        return data[word.upper()]\n",
    "    elif len(get_close_matches(word , data.keys()))>0:\n",
    "        print(\"did you mean %s instead\" %get_close_matches(word, data.keys())[0])\n",
    "        decide = input(\" press y for yes or n for no to continue\" )\n",
    "        if decide==\"y\":\n",
    "            return data[get_close_matches(word, data.keys())[0]]\n",
    "        else:\n",
    "            return (\"word is not found\")\n",
    "    else:\n",
    "        print(\"word is not found /n please enter another word\")\n",
    "#     return(data(word))\n",
    "word=input(\"please enter the word to search :\")\n",
    "\n",
    "output= translate(word)\n",
    "if type(output)== list:\n",
    "    for item in output:\n",
    "        print(item)\n",
    "else:\n",
    "    print(output)\n"
   ]
  },
  {
   "cell_type": "code",
   "execution_count": null,
   "metadata": {},
   "outputs": [],
   "source": []
  }
 ],
 "metadata": {
  "kernelspec": {
   "display_name": "Python 3",
   "language": "python",
   "name": "python3"
  },
  "language_info": {
   "codemirror_mode": {
    "name": "ipython",
    "version": 3
   },
   "file_extension": ".py",
   "mimetype": "text/x-python",
   "name": "python",
   "nbconvert_exporter": "python",
   "pygments_lexer": "ipython3",
   "version": "3.7.0"
  }
 },
 "nbformat": 4,
 "nbformat_minor": 2
}
