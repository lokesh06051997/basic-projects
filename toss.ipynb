{
 "cells": [
  {
   "cell_type": "code",
   "execution_count": null,
   "metadata": {},
   "outputs": [],
   "source": [
    "def coin_toss():\n",
    "    import random\n",
    "    outcomes=random.choice([\"heads\",\"tails\"])\n",
    "    ump=input(\"shall I toss the coin\")\n",
    "    if(ump == \"yes\"):\n",
    "        print(\"please Enter your call whether heads or tails\")\n",
    "        call=input()\n",
    "        valid_calls='heads','tails'\n",
    "        if call in valid_calls:\n",
    "            if call==outcomes:\n",
    "                print(\"It's\",outcomes)\n",
    "                print(\"congrats you have won the toss\")\n",
    "            else:\n",
    "                print(\"It's\",outcomes)\n",
    "                print(\"sorry you have lost the coin toss\")\n",
    "        else:\n",
    "            print(\"please enter the valid call\")\n",
    "    else:\n",
    "        print(\"Thank you \")\n",
    "    print()\n",
    "coin_toss()"
   ]
  },
  {
   "cell_type": "code",
   "execution_count": null,
   "metadata": {},
   "outputs": [],
   "source": [
    "\n"
   ]
  },
  {
   "cell_type": "code",
   "execution_count": null,
   "metadata": {},
   "outputs": [],
   "source": []
  },
  {
   "cell_type": "code",
   "execution_count": null,
   "metadata": {},
   "outputs": [],
   "source": []
  }
 ],
 "metadata": {
  "kernelspec": {
   "display_name": "Python 3",
   "language": "python",
   "name": "python3"
  },
  "language_info": {
   "codemirror_mode": {
    "name": "ipython",
    "version": 3
   },
   "file_extension": ".py",
   "mimetype": "text/x-python",
   "name": "python",
   "nbconvert_exporter": "python",
   "pygments_lexer": "ipython3",
   "version": "3.7.0"
  }
 },
 "nbformat": 4,
 "nbformat_minor": 2
}
